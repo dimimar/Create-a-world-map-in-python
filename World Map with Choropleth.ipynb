# -*- coding: utf-8 -*-
"""
Created on Sun Jun 12 13:32:33 2022

@author: gluma
"""
#import libraries
import pandas as pd
import folium
import geopandas
#read the file that is taken from kaggle dataset COVID-19 Coronavirus.csv
file=pd.read_csv("C:/Users/gluma/Downloads/archive/COVID-19 Coronavirus.csv")
#create another dataframe that has Country as index
file1=file.set_index("Country")
tables = file
world = geopandas.read_file(geopandas.datasets.get_path('naturalearth_lowres'))
# Merge the two DataFrames together
table = world.merge(tables, how="left", left_on=['name'], right_on=['Country'])
# Create a map
my_map = folium.Map()
# Add the data
map1=folium.Choropleth(
    geo_data=table,
    name='choropleth',
    data=table,
    columns=['Country', 'Total Deaths'],
    key_on='feature.properties.name',
    fill_color='YlOrRd',
    fill_opacity=0.7,
    line_opacity=0.2,
    legend_name='Total Deaths by Coronavirus per country'
).add_to(my_map)
folium.GeoJsonTooltip(['Country', 'Total Deaths','Total Cases','Death percentage']).add_to(map1.geojson)
my_map.save('coronavirus map.html')