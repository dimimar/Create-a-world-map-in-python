{
 "cells": [
  {
   "cell_type": "code",
   "execution_count": null,
   "id": "bf546d36",
   "metadata": {},
   "outputs": [],
   "source": [
    "#import libraries\n",
    "import pandas as pd\n",
    "import folium\n",
    "import geopandas\n",
    "#read the file that is taken from kaggle dataset COVID-19 Coronavirus.csv\n",
    "file=pd.read_csv(\"C:/Users/gluma/Downloads/archive/COVID-19 Coronavirus.csv\")\n",
    "#create another dataframe that has Country as index\n",
    "file1=file.set_index(\"Country\")\n",
    "tables = file\n",
    "world = geopandas.read_file(geopandas.datasets.get_path('naturalearth_lowres'))\n",
    "# Merge the two DataFrames together\n",
    "table = world.merge(tables, how=\"left\", left_on=['name'], right_on=['Country'])\n",
    "# Create a map\n",
    "my_map = folium.Map()\n",
    "# Add the data\n",
    "map1=folium.Choropleth(\n",
    "    geo_data=table,\n",
    "    name='choropleth',\n",
    "    data=table,\n",
    "    columns=['Country', 'Total Deaths'],\n",
    "    key_on='feature.properties.name',\n",
    "    fill_color='YlOrRd',\n",
    "    fill_opacity=0.7,\n",
    "    line_opacity=0.2,\n",
    "    legend_name='Total Deaths by Coronavirus per country'\n",
    ").add_to(my_map)\n",
    "folium.GeoJsonTooltip(['Country', 'Total Deaths','Total Cases','Death percentage']).add_to(map1.geojson)\n",
    "my_map.save('coronavirus map.html')"
   ]
  }
 ],
 "metadata": {
  "kernelspec": {
   "display_name": "Python 3 (ipykernel)",
   "language": "python",
   "name": "python3"
  },
  "language_info": {
   "codemirror_mode": {
    "name": "ipython",
    "version": 3
   },
   "file_extension": ".py",
   "mimetype": "text/x-python",
   "name": "python",
   "nbconvert_exporter": "python",
   "pygments_lexer": "ipython3",
   "version": "3.9.7"
  }
 },
 "nbformat": 4,
 "nbformat_minor": 5
}
